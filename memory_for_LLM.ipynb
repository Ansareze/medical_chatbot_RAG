{
 "cells": [
  {
   "cell_type": "markdown",
   "id": "6601ab0f",
   "metadata": {},
   "source": [
    "## STEPS\n",
    "### 1-Load raw PDF\n",
    "### 2-Create chunks\n",
    "### 3-Create vector embeddings\n",
    "### 4-Store embeddings in FAISS"
   ]
  },
  {
   "cell_type": "code",
   "execution_count": 2,
   "id": "4613167c",
   "metadata": {},
   "outputs": [],
   "source": [
    "\n",
    "from langchain_community.document_loaders import PyPDFLoader, DirectoryLoader\n",
    "from langchain.text_splitter import RecursiveCharacterTextSplitter\n",
    "from langchain_huggingface import HuggingFaceEmbeddings\n",
    "from langchain_community.vectorstores import FAISS"
   ]
  },
  {
   "cell_type": "code",
   "execution_count": 3,
   "id": "82d8311a",
   "metadata": {},
   "outputs": [
    {
     "data": {
      "text/plain": [
       "True"
      ]
     },
     "execution_count": 3,
     "metadata": {},
     "output_type": "execute_result"
    }
   ],
   "source": [
    "from dotenv import load_dotenv, find_dotenv\n",
    "load_dotenv(find_dotenv())\n"
   ]
  },
  {
   "cell_type": "markdown",
   "id": "7c4f3f34",
   "metadata": {},
   "source": [
    "# Load Raw PDFs"
   ]
  },
  {
   "cell_type": "code",
   "execution_count": 4,
   "id": "de7f7833",
   "metadata": {},
   "outputs": [
    {
     "name": "stdout",
     "output_type": "stream",
     "text": [
      "Length of PDF pages:  759\n"
     ]
    }
   ],
   "source": [
    "DATA_PATH=\"data/\"\n",
    "def load_pdf_files(data):\n",
    "    loader = DirectoryLoader(data,\n",
    "                             glob='*.pdf',\n",
    "                             loader_cls=PyPDFLoader)\n",
    "    \n",
    "    documents=loader.load()\n",
    "    return documents\n",
    "\n",
    "documents=load_pdf_files(data=DATA_PATH)\n",
    "print(\"Length of PDF pages: \", len(documents))\n",
    "\n"
   ]
  },
  {
   "cell_type": "markdown",
   "id": "55cc95d2",
   "metadata": {},
   "source": [
    "# Step 2: Create Chunks\n"
   ]
  },
  {
   "cell_type": "code",
   "execution_count": 5,
   "id": "4a94d903",
   "metadata": {},
   "outputs": [
    {
     "name": "stdout",
     "output_type": "stream",
     "text": [
      "Length of Text Chunks:  7080\n"
     ]
    }
   ],
   "source": [
    "def create_chunks(extracted_data):\n",
    "    text_splitter=RecursiveCharacterTextSplitter(chunk_size=500,\n",
    "                                                 chunk_overlap=50)\n",
    "    text_chunks=text_splitter.split_documents(extracted_data)\n",
    "    return text_chunks\n",
    "\n",
    "text_chunks=create_chunks(extracted_data=documents)\n",
    "\n",
    "print(\"Length of Text Chunks: \", len(text_chunks))\n"
   ]
  },
  {
   "cell_type": "markdown",
   "id": "b52ddd74",
   "metadata": {},
   "source": [
    "# Step 3: Create Vector Embeddings "
   ]
  },
  {
   "cell_type": "code",
   "execution_count": 6,
   "id": "146edbfd",
   "metadata": {},
   "outputs": [
    {
     "name": "stderr",
     "output_type": "stream",
     "text": [
      "c:\\Users\\ansar\\anaconda3\\envs\\new_env\\Lib\\site-packages\\tqdm\\auto.py:21: TqdmWarning: IProgress not found. Please update jupyter and ipywidgets. See https://ipywidgets.readthedocs.io/en/stable/user_install.html\n",
      "  from .autonotebook import tqdm as notebook_tqdm\n"
     ]
    },
    {
     "name": "stdout",
     "output_type": "stream",
     "text": [
      "WARNING:tensorflow:From c:\\Users\\ansar\\anaconda3\\envs\\new_env\\Lib\\site-packages\\tf_keras\\src\\losses.py:2976: The name tf.losses.sparse_softmax_cross_entropy is deprecated. Please use tf.compat.v1.losses.sparse_softmax_cross_entropy instead.\n",
      "\n"
     ]
    }
   ],
   "source": [
    "def get_embedding_model():\n",
    "    embedding_model=HuggingFaceEmbeddings(model_name=\"sentence-transformers/all-MiniLM-L6-v2\")\n",
    "    return embedding_model\n",
    "\n",
    "embedding_model=get_embedding_model()\n"
   ]
  },
  {
   "cell_type": "markdown",
   "id": "cd722f44",
   "metadata": {},
   "source": [
    "# Step 4: Store embeddings in FAISS\n"
   ]
  },
  {
   "cell_type": "code",
   "execution_count": 7,
   "id": "b2c36722",
   "metadata": {},
   "outputs": [],
   "source": [
    "DB_FAISS_PATH=\"vectorstore/db_faiss\"\n",
    "db=FAISS.from_documents(text_chunks, embedding_model)\n",
    "db.save_local(DB_FAISS_PATH)"
   ]
  },
  {
   "cell_type": "markdown",
   "id": "8a68318f",
   "metadata": {},
   "source": []
  }
 ],
 "metadata": {
  "kernelspec": {
   "display_name": "new_env",
   "language": "python",
   "name": "python3"
  },
  "language_info": {
   "codemirror_mode": {
    "name": "ipython",
    "version": 3
   },
   "file_extension": ".py",
   "mimetype": "text/x-python",
   "name": "python",
   "nbconvert_exporter": "python",
   "pygments_lexer": "ipython3",
   "version": "3.11.13"
  }
 },
 "nbformat": 4,
 "nbformat_minor": 5
}
